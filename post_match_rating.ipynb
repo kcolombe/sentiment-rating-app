{
 "cells": [
  {
   "cell_type": "code",
   "execution_count": 1,
   "id": "cc0d40bc",
   "metadata": {},
   "outputs": [
    {
     "data": {
      "application/vnd.jupyter.widget-view+json": {
       "model_id": "2cf36e9a932648a1b55fd03c542452fb",
       "version_major": 2,
       "version_minor": 0
      },
      "text/plain": [
       "HTML(value='')"
      ]
     },
     "metadata": {},
     "output_type": "display_data"
    },
    {
     "data": {
      "application/vnd.jupyter.widget-view+json": {
       "model_id": "c3f39ca77f20408db7d7febcc426bc41",
       "version_major": 2,
       "version_minor": 0
      },
      "text/plain": [
       "RadioButtons(description='Your rating:', options=('Positive', 'Neutral', 'Negative'), value='Positive')"
      ]
     },
     "metadata": {},
     "output_type": "display_data"
    },
    {
     "data": {
      "application/vnd.jupyter.widget-view+json": {
       "model_id": "8b7233c9171a4b3eb94d1deecff62450",
       "version_major": 2,
       "version_minor": 0
      },
      "text/plain": [
       "Button(description='Submit & Next', style=ButtonStyle())"
      ]
     },
     "metadata": {},
     "output_type": "display_data"
    }
   ],
   "source": [
    "import pandas as pd\n",
    "import ipywidgets as widgets\n",
    "from IPython.display import display\n",
    "\n",
    "# — CONFIG —\n",
    "TEXTS_CSV = "post_match_texts.csv"\n",
    "RESPONSES_CSV = "app_responses.csv"\n",
    "\n",
    "# — LOAD DATA —\n",
    "texts_df = pd.read_csv(\n",
    "    TEXTS_CSV,\n",
    "    encoding='cp1252',    # or 'latin-1'\n",
    "    engine='python'       # sometimes helps with odd files\n",
    ")\n",
    "try:\n",
    "    resp_df = pd.read_csv(RESPONSES_CSV)\n",
    "except FileNotFoundError:\n",
    "    resp_df = pd.DataFrame(columns=['text_id', 'sentiment'])\n",
    "\n",
    "def get_unseen():\n",
    "    seen = set(resp_df['text_id'])\n",
    "    return texts_df[~texts_df['text_id'].isin(seen)]\n",
    "\n",
    "# — WIDGETS —\n",
    "out = widgets.HTML()\n",
    "sentiment = widgets.RadioButtons(\n",
    "    options=['Positive','Neutral','Negative'],\n",
    "    description='Your rating:'\n",
    ")\n",
    "btn_submit = widgets.Button(description='Submit & Next')\n",
    "\n",
    "current_id = None\n",
    "\n",
    "def load_next(_=None):\n",
    "    global current_id\n",
    "    unseen = get_unseen()\n",
    "    if unseen.empty:\n",
    "        out.value = \"<h3>✅ You’ve rated every text!</h3>\"\n",
    "        btn_submit.disabled = True\n",
    "        return\n",
    "    row = unseen.sample(1).iloc[0]\n",
    "    current_id = row['text_id']\n",
    "    out.value = f\"<b>Text #{current_id}</b><p>{row['processed_tex']}</p>\"\n",
    "    sentiment.value = None\n",
    "\n",
    "def on_submit(_):\n",
    "    global resp_df\n",
    "    if sentiment.value is None:\n",
    "        return\n",
    "    # in-place append\n",
    "    resp_df.loc[len(resp_df)] = {\n",
    "        'text_id': current_id,\n",
    "        'sentiment': sentiment.value\n",
    "    }\n",
    "    resp_df.to_csv(RESPONSES_CSV, index=False)\n",
    "    load_next()\n",
    "\n",
    "btn_submit.on_click(on_submit)\n",
    "\n",
    "# — LAYOUT —\n",
    "display(out, sentiment, btn_submit)\n",
    "load_next()\n"
   ]
  }
 ],
 "metadata": {
  "kernelspec": {
   "display_name": "Python 3",
   "language": "python",
   "name": "python3"
  },
  "language_info": {
   "codemirror_mode": {
    "name": "ipython",
    "version": 3
   },
   "file_extension": ".py",
   "mimetype": "text/x-python",
   "name": "python",
   "nbconvert_exporter": "python",
   "pygments_lexer": "ipython3",
   "version": "3.10.4"
  }
 },
 "nbformat": 4,
 "nbformat_minor": 5
}
